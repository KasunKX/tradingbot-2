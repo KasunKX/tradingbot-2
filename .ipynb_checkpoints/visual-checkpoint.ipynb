{
 "cells": [
  {
   "cell_type": "raw",
   "id": "c1ba3b5d-a5ec-4467-9722-9067fccad360",
   "metadata": {},
   "source": [
    "Visual Representation of Trading Bot's Quality "
   ]
  },
  {
   "cell_type": "code",
   "execution_count": 4,
   "id": "3c5460dc-e3c0-4661-a98d-de745817627e",
   "metadata": {},
   "outputs": [],
   "source": [
    "import numpy as np\n",
    "import matplotlib.pylab as plt\n",
    "import matplotlib\n",
    "import sqlite3"
   ]
  },
  {
   "cell_type": "code",
   "execution_count": null,
   "id": "f652b072-14b8-427d-80f9-91e3b9ad064c",
   "metadata": {},
   "outputs": [],
   "source": [
    "def getData():\n",
    "    conn = sqlite3.connect('data.db', check_same_thread=False)\n",
    "c = conn.cursor()"
   ]
  }
 ],
 "metadata": {
  "kernelspec": {
   "display_name": "Python 3 (ipykernel)",
   "language": "python",
   "name": "python3"
  },
  "language_info": {
   "codemirror_mode": {
    "name": "ipython",
    "version": 3
   },
   "file_extension": ".py",
   "mimetype": "text/x-python",
   "name": "python",
   "nbconvert_exporter": "python",
   "pygments_lexer": "ipython3",
   "version": "3.12.3"
  }
 },
 "nbformat": 4,
 "nbformat_minor": 5
}
